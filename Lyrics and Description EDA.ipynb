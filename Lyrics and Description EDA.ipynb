{
 "cells": [
  {
   "cell_type": "markdown",
   "id": "3ab9de87",
   "metadata": {},
   "source": [
    "```\n",
    "Muris Saab\n",
    "ADS509 - Assignment 2.1\n",
    "University of San Diego\n",
    "```\n",
    "https://github.com/murissaab1976/ads509-module2"
   ]
  },
  {
   "cell_type": "markdown",
   "id": "7f79baf9",
   "metadata": {},
   "source": [
    "# ADS 509 Assignment 2.1: Tokenization, Normalization, Descriptive Statistics \n",
    "\n",
    "This notebook holds Assignment 2.1 for Module 2 in ADS 509, Applied Text Mining. Work through this notebook, writing code and answering questions where required. \n",
    "\n",
    "In the previous assignment you pulled lyrics data on two artists. In this assignment we explore this data set and a pull from the now-defunct Twitter API for the artists Cher and Robyn.  If, for some reason, you did not complete that previous assignment, data to use for this assignment can be found in the assignment materials section of Canvas. \n",
    "\n",
    "This assignment asks you to write a short function to calculate some descriptive statistics on a piece of text. Then you are asked to find some interesting and unique statistics on your corpora. \n"
   ]
  },
  {
   "cell_type": "markdown",
   "id": "aae8e2e1",
   "metadata": {},
   "source": [
    "## General Assignment Instructions\n",
    "\n",
    "These instructions are included in every assignment, to remind you of the coding standards for the class. Feel free to delete this cell after reading it. \n",
    "\n",
    "One sign of mature code is conforming to a style guide. We recommend the [Google Python Style Guide](https://google.github.io/styleguide/pyguide.html). If you use a different style guide, please include a cell with a link. \n",
    "\n",
    "Your code should be relatively easy-to-read, sensibly commented, and clean. Writing code is a messy process, so please be sure to edit your final submission. Remove any cells that are not needed or parts of cells that contain unnecessary code. Remove inessential `import` statements and make sure that all such statements are moved into the designated cell. \n",
    "\n",
    "Make use of non-code cells for written commentary. These cells should be grammatical and clearly written. In some of these cells you will have questions to answer. The questions will be marked by a \"Q:\" and will have a corresponding \"A:\" spot for you. *Make sure to answer every question marked with a `Q:` for full credit.* \n"
   ]
  },
  {
   "cell_type": "code",
   "execution_count": 4,
   "id": "e2d096b7",
   "metadata": {},
   "outputs": [],
   "source": [
    "import os\n",
    "import re\n",
    "import emoji\n",
    "import pandas as pd\n",
    "import numpy as np\n",
    "\n",
    "from collections import Counter, defaultdict\n",
    "from nltk.corpus import stopwords\n",
    "from string import punctuation\n",
    "\n",
    "sw = stopwords.words(\"english\")"
   ]
  },
  {
   "cell_type": "code",
   "execution_count": null,
   "id": "6b555ab2",
   "metadata": {},
   "outputs": [],
   "source": [
    "# Add any additional import statements you need here\n",
    "\n",
    "\n"
   ]
  },
  {
   "cell_type": "code",
   "execution_count": 6,
   "id": "923b5a86",
   "metadata": {},
   "outputs": [],
   "source": [
    "# change `data_location` to the location of the folder on your machine.\n",
    "data_location = \"/Users/muriss/github/ads509-module2\"\n",
    "\n",
    "# These subfolders should still work if you correctly stored the \n",
    "# data from the Module 1 assignment\n",
    "twitter_folder = \"twitter/\"\n",
    "lyrics_folder = \"lyrics/\""
   ]
  },
  {
   "cell_type": "code",
   "execution_count": 1,
   "id": "06522af9",
   "metadata": {},
   "outputs": [],
   "source": [
    "def descriptive_stats(tokens, num_tokens = 5, verbose=True) :\n",
    "    \"\"\"\n",
    "        Given a list of tokens, print number of tokens, number of unique tokens, \n",
    "        number of characters, lexical diversity (https://en.wikipedia.org/wiki/Lexical_diversity), \n",
    "        and num_tokens most common tokens. Return a list with the number of tokens, number\n",
    "        of unique tokens, lexical diversity, and number of characters. \n",
    "    \n",
    "    \"\"\"\n",
    "\n",
    "    # Fill in the correct values here. \n",
    "    num_tokens = len(tokens)\n",
    "    num_unique_tokens = len(set(tokens))\n",
    "    lexical_diversity = num_unique_tokens / num_tokens\n",
    "    num_characters = sum(len(token) for token in tokens)\n",
    "    \n",
    "    if verbose :        \n",
    "        print(f\"There are {num_tokens} tokens in the data.\")\n",
    "        print(f\"There are {num_unique_tokens} unique tokens in the data.\")\n",
    "        print(f\"There are {num_characters} characters in the data.\")\n",
    "        print(f\"The lexical diversity is {lexical_diversity:.3f} in the data.\")\n",
    "    \n",
    "        # print the five most common tokens\n",
    "        \n",
    "    return([num_tokens, num_unique_tokens,\n",
    "            lexical_diversity,\n",
    "            num_characters])\n",
    "    "
   ]
  },
  {
   "cell_type": "code",
   "execution_count": 2,
   "id": "59dcf058",
   "metadata": {},
   "outputs": [
    {
     "name": "stdout",
     "output_type": "stream",
     "text": [
      "There are 13 tokens in the data.\n",
      "There are 9 unique tokens in the data.\n",
      "There are 55 characters in the data.\n",
      "The lexical diversity is 0.692 in the data.\n"
     ]
    }
   ],
   "source": [
    "text = \"\"\"here is some example text with other example text here in this text\"\"\".split()\n",
    "assert(descriptive_stats(text, verbose=True)[0] == 13)\n",
    "assert(descriptive_stats(text, verbose=False)[1] == 9)\n",
    "assert(abs(descriptive_stats(text, verbose=False)[2] - 0.69) < 0.02)\n",
    "assert(descriptive_stats(text, verbose=False)[3] == 55)\n"
   ]
  },
  {
   "cell_type": "markdown",
   "id": "d2e7e1a2",
   "metadata": {},
   "source": [
    "Q: Why is it beneficial to use assertion statements in your code? \n",
    "\n",
    "A: Assertion statements are beneficial in code because they help catch errors early by checking if assumptions hold true, improving the overall reliability of the code. They aid in debugging by acting as checkpoints that verify conditions during runtime, making it easier to identify logical issues. Additionally, assertions serve as self-documenting elements that clarify assumptions, enhancing code readability."
   ]
  },
  {
   "cell_type": "markdown",
   "id": "9d3bf93e",
   "metadata": {},
   "source": [
    "## Data Input\n",
    "\n",
    "Now read in each of the corpora. For the lyrics data, it may be convenient to store the entire contents of the file to make it easier to inspect the titles individually, as you'll do in the last part of the assignment. In the solution, I stored the lyrics data in a dictionary with two dimensions of keys: artist and song. The value was the file contents. A data frame would work equally well. \n",
    "\n",
    "For the Twitter data, we only need the description field for this assignment. Feel free all the descriptions read it into a data structure. In the solution, I stored the descriptions as a dictionary of lists, with the key being the artist. \n",
    "\n",
    "\n"
   ]
  },
  {
   "cell_type": "code",
   "execution_count": 16,
   "id": "37d70801",
   "metadata": {},
   "outputs": [],
   "source": [
    "import os\n",
    "\n",
    "def read_lyrics_data(lyrics_dir):\n",
    "    \"\"\"\n",
    "    Reads lyrics data from files and stores it in a dictionary where the key is \n",
    "    the artist and song title, and the value is the song lyrics.\n",
    "    \n",
    "    :param lyrics_dir: Directory containing artist folders with song files\n",
    "    :return: Dictionary with artist and song as keys and lyrics as values\n",
    "    \"\"\"\n",
    "    lyrics_data = {}\n",
    "\n",
    "    for artist in os.listdir(lyrics_dir):\n",
    "        artist_path = os.path.join(lyrics_dir, artist)\n",
    "        if os.path.isdir(artist_path):\n",
    "            lyrics_data[artist] = {}\n",
    "            for song_file in os.listdir(artist_path):\n",
    "                song_path = os.path.join(artist_path, song_file)\n",
    "                # Check if the path is a file and not a directory\n",
    "                if os.path.isfile(song_path):\n",
    "                    with open(song_path, 'r', encoding='utf-8') as file:\n",
    "                        song_title = song_file.replace('.txt', '')\n",
    "                        lyrics = file.read()\n",
    "                        lyrics_data[artist][song_title] = lyrics\n",
    "    \n",
    "    return lyrics_data\n",
    "\n",
    "# Example usage\n",
    "lyrics_directory = '/Users/muriss/github/ads509-module2/lyrics'\n",
    "lyrics_data = read_lyrics_data(lyrics_directory)\n"
   ]
  },
  {
   "cell_type": "code",
   "execution_count": 14,
   "id": "debcac5a",
   "metadata": {},
   "outputs": [],
   "source": [
    "import os\n",
    "\n",
    "def read_twitter_data(twitter_dir):\n",
    "    \"\"\"\n",
    "    Reads the Twitter data from text files and stores the descriptions in a dictionary \n",
    "    where the key is the artist and the value is a list of descriptions.\n",
    "    \n",
    "    :param twitter_dir: Directory containing the Twitter data files (in text format)\n",
    "    :return: Dictionary with artist names as keys and descriptions as values\n",
    "    \"\"\"\n",
    "    twitter_data = {}\n",
    "\n",
    "    for twitter_file in os.listdir(twitter_dir):\n",
    "        file_path = os.path.join(twitter_dir, twitter_file)\n",
    "        \n",
    "        # Check if the path is a file (to avoid directories)\n",
    "        if os.path.isfile(file_path):\n",
    "            artist = twitter_file.replace('.txt', '')  # Assuming the filename is the artist's name\n",
    "            # Try reading the file using ISO-8859-1 encoding with error handling\n",
    "            try:\n",
    "                with open(file_path, 'r', encoding='ISO-8859-1', errors='ignore') as file:\n",
    "                    descriptions = file.readlines()  # Read all lines in the file\n",
    "                    descriptions = [desc.strip() for desc in descriptions]  # Remove any extra whitespace\n",
    "                \n",
    "                    # Add the descriptions to the dictionary\n",
    "                    twitter_data[artist] = descriptions\n",
    "            except Exception as e:\n",
    "                print(f\"Error reading {file_path}: {e}\")\n",
    "    \n",
    "    return twitter_data\n",
    "\n",
    "# Example usage\n",
    "twitter_directory = '/Users/muriss/github/ads509-module2/twitter'\n",
    "twitter_data = read_twitter_data(twitter_directory)\n"
   ]
  },
  {
   "cell_type": "markdown",
   "id": "6a5f3b12",
   "metadata": {},
   "source": [
    "## Data Cleaning\n",
    "\n",
    "Now clean and tokenize your data. Remove punctuation chacters (available in the `punctuation` object in the `string` library), split on whitespace, fold to lowercase, and remove stopwords. Store your cleaned data, which must be accessible as an interable for `descriptive_stats`, in new objects or in new columns in your data frame. \n",
    "\n"
   ]
  },
  {
   "cell_type": "code",
   "execution_count": 18,
   "id": "71c73d86",
   "metadata": {},
   "outputs": [],
   "source": [
    "# punctuation = set(punctuation) # speeds up comparison\n",
    "\n",
    "import string\n",
    "import nltk\n",
    "from nltk.corpus import stopwords\n",
    "\n",
    "# Download the stopwords if not already downloaded\n",
    "# nltk.download('stopwords')\n",
    "stop_words = set(stopwords.words('english'))\n",
    "\n",
    "# Convert punctuation to a set for faster lookups\n",
    "punctuation = set(string.punctuation)\n",
    "\n",
    "def clean_and_tokenize(text):\n",
    "    \"\"\"\n",
    "    Cleans and tokenizes a given text by:\n",
    "    - Removing punctuation\n",
    "    - Converting to lowercase\n",
    "    - Splitting on whitespace\n",
    "    - Removing stopwords\n",
    "    \"\"\"\n",
    "    # Remove punctuation by excluding characters in punctuation set\n",
    "    text = ''.join([char for char in text if char not in punctuation])\n",
    "    \n",
    "    # Convert to lowercase\n",
    "    text = text.lower()\n",
    "    \n",
    "    # Split into tokens (words)\n",
    "    tokens = text.split()\n",
    "    \n",
    "    # Remove stopwords\n",
    "    tokens = [word for word in tokens if word not in stop_words]\n",
    "    \n",
    "    return tokens\n"
   ]
  },
  {
   "cell_type": "code",
   "execution_count": 19,
   "id": "b327033a",
   "metadata": {},
   "outputs": [],
   "source": [
    "# create your clean twitter data here\n",
    "\n",
    "cleaned_twitter_data = {}\n",
    "for artist, descriptions in twitter_data.items():\n",
    "    cleaned_twitter_data[artist] = [clean_and_tokenize(desc) for desc in descriptions]"
   ]
  },
  {
   "cell_type": "code",
   "execution_count": 21,
   "id": "e0f22e10",
   "metadata": {},
   "outputs": [],
   "source": [
    "# create your clean lyrics data here\n",
    "\n",
    "cleaned_lyrics_data = {}\n",
    "for artist, songs in lyrics_data.items():\n",
    "    cleaned_lyrics_data[artist] = {song: clean_and_tokenize(lyrics) for song, lyrics in songs.items()}"
   ]
  },
  {
   "cell_type": "markdown",
   "id": "f2dd0179",
   "metadata": {},
   "source": [
    "## Basic Descriptive Statistics\n",
    "\n",
    "Call your `descriptive_stats` function on both your lyrics data and your twitter data and for both artists (four total calls). "
   ]
  },
  {
   "cell_type": "code",
   "execution_count": 23,
   "id": "f0bbedd9",
   "metadata": {},
   "outputs": [
    {
     "name": "stdout",
     "output_type": "stream",
     "text": [
      "There are 10 tokens in the data.\n",
      "There are 8 unique tokens in the data.\n",
      "There are 6129 characters in the data.\n",
      "The lexical diversity is 0.800 in the data.\n",
      "There are 42537966 tokens in the data.\n",
      "There are 10678618 unique tokens in the data.\n",
      "There are 276293035 characters in the data.\n",
      "The lexical diversity is 0.251 in the data.\n",
      "There are 15227 tokens in the data.\n",
      "There are 2156 unique tokens in the data.\n",
      "There are 73787 characters in the data.\n",
      "The lexical diversity is 0.142 in the data.\n",
      "There are 35916 tokens in the data.\n",
      "There are 3703 unique tokens in the data.\n",
      "There are 172634 characters in the data.\n",
      "The lexical diversity is 0.103 in the data.\n"
     ]
    },
    {
     "data": {
      "text/html": [
       "<div>\n",
       "<style scoped>\n",
       "    .dataframe tbody tr th:only-of-type {\n",
       "        vertical-align: middle;\n",
       "    }\n",
       "\n",
       "    .dataframe tbody tr th {\n",
       "        vertical-align: top;\n",
       "    }\n",
       "\n",
       "    .dataframe thead th {\n",
       "        text-align: right;\n",
       "    }\n",
       "</style>\n",
       "<table border=\"1\" class=\"dataframe\">\n",
       "  <thead>\n",
       "    <tr style=\"text-align: right;\">\n",
       "      <th></th>\n",
       "      <th>Total Tokens</th>\n",
       "      <th>Unique Tokens</th>\n",
       "      <th>Lexical Diversity</th>\n",
       "      <th>Total Characters</th>\n",
       "    </tr>\n",
       "  </thead>\n",
       "  <tbody>\n",
       "    <tr>\n",
       "      <th>Twitter - .DS_Store</th>\n",
       "      <td>10</td>\n",
       "      <td>8</td>\n",
       "      <td>0.800000</td>\n",
       "      <td>6129</td>\n",
       "    </tr>\n",
       "    <tr>\n",
       "      <th>Twitter - cher_followers_data</th>\n",
       "      <td>42537966</td>\n",
       "      <td>10678618</td>\n",
       "      <td>0.251037</td>\n",
       "      <td>276293035</td>\n",
       "    </tr>\n",
       "    <tr>\n",
       "      <th>Lyrics - robyn</th>\n",
       "      <td>15227</td>\n",
       "      <td>2156</td>\n",
       "      <td>0.141591</td>\n",
       "      <td>73787</td>\n",
       "    </tr>\n",
       "    <tr>\n",
       "      <th>Lyrics - cher</th>\n",
       "      <td>35916</td>\n",
       "      <td>3703</td>\n",
       "      <td>0.103102</td>\n",
       "      <td>172634</td>\n",
       "    </tr>\n",
       "  </tbody>\n",
       "</table>\n",
       "</div>"
      ],
      "text/plain": [
       "                               Total Tokens  Unique Tokens  Lexical Diversity  \\\n",
       "Twitter - .DS_Store                      10              8           0.800000   \n",
       "Twitter - cher_followers_data      42537966       10678618           0.251037   \n",
       "Lyrics - robyn                        15227           2156           0.141591   \n",
       "Lyrics - cher                         35916           3703           0.103102   \n",
       "\n",
       "                               Total Characters  \n",
       "Twitter - .DS_Store                        6129  \n",
       "Twitter - cher_followers_data         276293035  \n",
       "Lyrics - robyn                            73787  \n",
       "Lyrics - cher                            172634  "
      ]
     },
     "execution_count": 23,
     "metadata": {},
     "output_type": "execute_result"
    }
   ],
   "source": [
    "artists = list(cleaned_twitter_data.keys())[:2]  # Get first two artists from twitter data\n",
    "artists += list(cleaned_lyrics_data.keys())[:2]  # Get first two artists from lyrics data\n",
    "\n",
    "# Call descriptive_stats for each artist in both datasets\n",
    "results = {}\n",
    "\n",
    "# For Twitter data\n",
    "for artist in cleaned_twitter_data:\n",
    "    if artist in artists:\n",
    "        combined_descriptions = [word for desc in cleaned_twitter_data[artist] for word in desc]\n",
    "        stats = descriptive_stats(combined_descriptions)\n",
    "        results[f\"Twitter - {artist}\"] = stats\n",
    "\n",
    "# For Lyrics data\n",
    "for artist in cleaned_lyrics_data:\n",
    "    if artist in artists:\n",
    "        combined_lyrics = [word for song in cleaned_lyrics_data[artist].values() for word in song]\n",
    "        stats = descriptive_stats(combined_lyrics)\n",
    "        results[f\"Lyrics - {artist}\"] = stats\n",
    "\n",
    "# Displaying the results\n",
    "import pandas as pd\n",
    "\n",
    "df_results = pd.DataFrame.from_dict(results, orient='index', columns=[\n",
    "    'Total Tokens', 'Unique Tokens', 'Lexical Diversity', 'Total Characters'\n",
    "])\n",
    "df_results\n"
   ]
  },
  {
   "cell_type": "markdown",
   "id": "46294409",
   "metadata": {},
   "source": [
    "Q: How do you think the \"top 5 words\" would be different if we left stopwords in the data? \n",
    "\n",
    "A: If we had left stopwords in the data, the \"top 5 words\" would likely be common, frequently used words such as \"the,\" \"is,\" \"and,\" \"a,\" and \"to.\" These words do not carry much meaningful information on their own because they are used in most English sentences. As a result, they would dominate the list of most common words, overshadowing the more content-rich and meaningful words like nouns, verbs, and adjectives, which are more relevant for analysis. Removing stopwords helps highlight the more significant words that contribute to the unique meaning of the text.\n",
    "\n",
    "---\n",
    "\n",
    "Q: What were your prior beliefs about the lexical diversity between the artists? Does the difference (or lack thereof) in lexical diversity between the artists conform to your prior beliefs? \n",
    "\n",
    "A: My prior belief was that lexical diversity between different artists could vary significantly depending on their style, genre, and lyrical complexity. For example, an artist known for intricate or poetic lyrics might have higher lexical diversity, while one who uses repetitive phrases or simple language might have lower diversity.\n"
   ]
  },
  {
   "cell_type": "markdown",
   "id": "4d4e1ac1",
   "metadata": {},
   "source": [
    "\n",
    "## Specialty Statistics\n",
    "\n",
    "The descriptive statistics we have calculated are quite generic. You will now calculate a handful of statistics tailored to these data.\n",
    "\n",
    "1. Ten most common emojis by artist in the twitter descriptions.\n",
    "1. Ten most common hashtags by artist in the twitter descriptions.\n",
    "1. Five most common words in song titles by artist. \n",
    "1. For each artist, a histogram of song lengths (in terms of number of tokens) \n",
    "\n",
    "We can use the `emoji` library to help us identify emojis and you have been given a function to help you.\n"
   ]
  },
  {
   "cell_type": "code",
   "execution_count": 6,
   "id": "753a5a3e",
   "metadata": {},
   "outputs": [],
   "source": [
    "assert(emoji.is_emoji(\"❤️\"))\n",
    "assert(not emoji.is_emoji(\":-)\"))"
   ]
  },
  {
   "cell_type": "markdown",
   "id": "986fc4c0",
   "metadata": {},
   "source": [
    "### Emojis 😁\n",
    "\n",
    "What are the ten most common emojis by artist in the twitter descriptions? \n"
   ]
  },
  {
   "cell_type": "code",
   "execution_count": 24,
   "id": "269cd433",
   "metadata": {},
   "outputs": [
    {
     "name": "stdout",
     "output_type": "stream",
     "text": [
      "Artist: .DS_Store\n",
      "\n",
      "Artist: cher_followers_data\n",
      "©: 115695 times\n",
      "®: 55616 times\n",
      "\n",
      "Artist: robynkonichiwa_followers_data\n",
      "©: 12320 times\n",
      "®: 4025 times\n",
      "\n",
      "Artist: cher_followers\n",
      "\n",
      "Artist: robynkonichiwa_followers\n",
      "\n"
     ]
    }
   ],
   "source": [
    "# Your code here\n",
    "\n",
    "import emoji\n",
    "from collections import Counter\n",
    "\n",
    "def extract_emojis(text):\n",
    "    \"\"\"\n",
    "    Extract all emojis from a given text.\n",
    "    \"\"\"\n",
    "    return [char for char in text if emoji.is_emoji(char)]\n",
    "\n",
    "def most_common_emojis_by_artist(twitter_data, top_n=10):\n",
    "    \"\"\"\n",
    "    Find the top N most common emojis by artist in the twitter descriptions.\n",
    "    \n",
    "    :param twitter_data: Dictionary with artist as key and list of descriptions as values.\n",
    "    :param top_n: Number of top emojis to return (default is 10).\n",
    "    :return: Dictionary where key is artist and value is a list of the most common emojis.\n",
    "    \"\"\"\n",
    "    common_emojis = {}\n",
    "\n",
    "    for artist, descriptions in twitter_data.items():\n",
    "        emoji_counter = Counter()\n",
    "        \n",
    "        # Extract emojis from each description\n",
    "        for description in descriptions:\n",
    "            emojis_in_desc = extract_emojis(description)\n",
    "            emoji_counter.update(emojis_in_desc)\n",
    "        \n",
    "        # Get the most common emojis for the artist\n",
    "        common_emojis[artist] = emoji_counter.most_common(top_n)\n",
    "    \n",
    "    return common_emojis\n",
    "\n",
    "# Example usage\n",
    "top_emojis_by_artist = most_common_emojis_by_artist(twitter_data)\n",
    "\n",
    "# Display the results\n",
    "for artist, emoji_list in top_emojis_by_artist.items():\n",
    "    print(f\"Artist: {artist}\")\n",
    "    for emoji_char, count in emoji_list:\n",
    "        print(f\"{emoji_char}: {count} times\")\n",
    "    print()\n"
   ]
  },
  {
   "cell_type": "markdown",
   "id": "bab9b770",
   "metadata": {},
   "source": [
    "### Hashtags\n",
    "\n",
    "What are the ten most common hashtags by artist in the twitter descriptions? \n"
   ]
  },
  {
   "cell_type": "code",
   "execution_count": 25,
   "id": "07c396f1",
   "metadata": {},
   "outputs": [
    {
     "name": "stdout",
     "output_type": "stream",
     "text": [
      "Artist: .DS_Store\n",
      "\n",
      "Artist: cher_followers_data\n",
      "#BLM: 9807 times\n",
      "#Resist: 6016 times\n",
      "#BlackLivesMatter: 4819 times\n",
      "#resist: 3757 times\n",
      "#FBR: 3262 times\n",
      "#1: 3069 times\n",
      "#TheResistance: 2979 times\n",
      "#blacklivesmatter: 2708 times\n",
      "#Resistance: 1903 times\n",
      "#RESIST: 1795 times\n",
      "\n",
      "Artist: robynkonichiwa_followers_data\n",
      "#BlackLivesMatter: 351 times\n",
      "#BLM: 342 times\n",
      "#1: 226 times\n",
      "#blacklivesmatter: 222 times\n",
      "#music: 171 times\n",
      "#Music: 113 times\n",
      "#EDM: 86 times\n",
      "#LGBTQ: 73 times\n",
      "#blm: 59 times\n",
      "#TeamFollowBack: 59 times\n",
      "\n",
      "Artist: cher_followers\n",
      "\n",
      "Artist: robynkonichiwa_followers\n",
      "\n"
     ]
    }
   ],
   "source": [
    "# Your code here\n",
    "\n",
    "import re\n",
    "from collections import Counter\n",
    "\n",
    "def extract_hashtags(text):\n",
    "    \"\"\"\n",
    "    Extract all hashtags from a given text.\n",
    "    \"\"\"\n",
    "    return re.findall(r'#\\w+', text)\n",
    "\n",
    "def most_common_hashtags_by_artist(twitter_data, top_n=10):\n",
    "    \"\"\"\n",
    "    Find the top N most common hashtags by artist in the twitter descriptions.\n",
    "    \n",
    "    :param twitter_data: Dictionary with artist as key and list of descriptions as values.\n",
    "    :param top_n: Number of top hashtags to return (default is 10).\n",
    "    :return: Dictionary where key is artist and value is a list of the most common hashtags.\n",
    "    \"\"\"\n",
    "    common_hashtags = {}\n",
    "\n",
    "    for artist, descriptions in twitter_data.items():\n",
    "        hashtag_counter = Counter()\n",
    "        \n",
    "        # Extract hashtags from each description\n",
    "        for description in descriptions:\n",
    "            hashtags_in_desc = extract_hashtags(description)\n",
    "            hashtag_counter.update(hashtags_in_desc)\n",
    "        \n",
    "        # Get the most common hashtags for the artist\n",
    "        common_hashtags[artist] = hashtag_counter.most_common(top_n)\n",
    "    \n",
    "    return common_hashtags\n",
    "\n",
    "# Example usage\n",
    "top_hashtags_by_artist = most_common_hashtags_by_artist(twitter_data)\n",
    "\n",
    "# Display the results\n",
    "for artist, hashtag_list in top_hashtags_by_artist.items():\n",
    "    print(f\"Artist: {artist}\")\n",
    "    for hashtag, count in hashtag_list:\n",
    "        print(f\"{hashtag}: {count} times\")\n",
    "    print()\n"
   ]
  },
  {
   "cell_type": "markdown",
   "id": "d10f21d5",
   "metadata": {},
   "source": [
    "### Song Titles\n",
    "\n",
    "What are the five most common words in song titles by artist? The song titles should be on the first line of the lyrics pages, so if you have kept the raw file contents around, you will not need to re-read the data.\n"
   ]
  },
  {
   "cell_type": "code",
   "execution_count": 26,
   "id": "bb69b36b",
   "metadata": {},
   "outputs": [
    {
     "name": "stdout",
     "output_type": "stream",
     "text": [
      "Artist: robyn\n",
      "me: 11 times\n",
      "you: 8 times\n",
      "the: 8 times\n",
      "my: 8 times\n",
      "love: 6 times\n",
      "\n",
      "Artist: cher\n",
      "the: 54 times\n",
      "you: 41 times\n",
      "love: 38 times\n",
      "i: 32 times\n",
      "to: 28 times\n",
      "\n"
     ]
    }
   ],
   "source": [
    "# Your code here\n",
    "\n",
    "import string\n",
    "from collections import Counter\n",
    "\n",
    "def clean_and_tokenize_title(title):\n",
    "    \"\"\"\n",
    "    Cleans and tokenizes a song title by:\n",
    "    - Removing punctuation\n",
    "    - Converting to lowercase\n",
    "    - Splitting on whitespace\n",
    "    \"\"\"\n",
    "    # Remove punctuation\n",
    "    title = title.translate(str.maketrans('', '', string.punctuation))\n",
    "    \n",
    "    # Convert to lowercase\n",
    "    title = title.lower()\n",
    "    \n",
    "    # Split into tokens (words)\n",
    "    tokens = title.split()\n",
    "    \n",
    "    return tokens\n",
    "\n",
    "def most_common_words_in_titles_by_artist(lyrics_data, top_n=5):\n",
    "    \"\"\"\n",
    "    Find the top N most common words in song titles by artist.\n",
    "    \n",
    "    :param lyrics_data: Dictionary with artist as key and song lyrics as values (raw text).\n",
    "    :param top_n: Number of top words to return (default is 5).\n",
    "    :return: Dictionary where key is artist and value is a list of the most common words.\n",
    "    \"\"\"\n",
    "    common_words = {}\n",
    "\n",
    "    for artist, songs in lyrics_data.items():\n",
    "        title_counter = Counter()\n",
    "        \n",
    "        # Extract the first line of each song (song title) and clean/tokenize it\n",
    "        for song, lyrics in songs.items():\n",
    "            title_line = lyrics.splitlines()[0]  # Get the first line (song title)\n",
    "            title_tokens = clean_and_tokenize_title(title_line)\n",
    "            title_counter.update(title_tokens)\n",
    "        \n",
    "        # Get the most common words in song titles for the artist\n",
    "        common_words[artist] = title_counter.most_common(top_n)\n",
    "    \n",
    "    return common_words\n",
    "\n",
    "# Example usage\n",
    "top_words_in_titles_by_artist = most_common_words_in_titles_by_artist(lyrics_data)\n",
    "\n",
    "# Display the results\n",
    "for artist, word_list in top_words_in_titles_by_artist.items():\n",
    "    print(f\"Artist: {artist}\")\n",
    "    for word, count in word_list:\n",
    "        print(f\"{word}: {count} times\")\n",
    "    print()\n"
   ]
  },
  {
   "cell_type": "markdown",
   "id": "5dd4fd71",
   "metadata": {},
   "source": [
    "### Song Lengths\n",
    "\n",
    "For each artist, a histogram of song lengths (in terms of number of tokens). If you put the song lengths in a data frame with an artist column, matplotlib will make the plotting quite easy. An example is given to help you out. \n"
   ]
  },
  {
   "cell_type": "code",
   "execution_count": 27,
   "id": "805a1e52",
   "metadata": {},
   "outputs": [
    {
     "data": {
      "text/plain": [
       "artist\n",
       "Artist 1    Axes(0.125,0.11;0.775x0.77)\n",
       "Artist 2    Axes(0.125,0.11;0.775x0.77)\n",
       "Name: length, dtype: object"
      ]
     },
     "execution_count": 27,
     "metadata": {},
     "output_type": "execute_result"
    },
    {
     "data": {
      "image/png": "[encoded data removed]",
      "text/plain": [
       "<Figure size 640x480 with 1 Axes>"
      ]
     },
     "metadata": {},
     "output_type": "display_data"
    }
   ],
   "source": [
    "num_replicates = 1000\n",
    "\n",
    "df = pd.DataFrame({\n",
    "    \"artist\" : ['Artist 1'] * num_replicates + ['Artist 2']*num_replicates,\n",
    "    \"length\" : np.concatenate((np.random.poisson(125,num_replicates),np.random.poisson(150,num_replicates)))\n",
    "})\n",
    "\n",
    "df.groupby('artist')['length'].plot(kind=\"hist\",density=True,alpha=0.5,legend=True)"
   ]
  },
  {
   "cell_type": "markdown",
   "id": "8fde9ebb",
   "metadata": {},
   "source": [
    "Since the lyrics may be stored with carriage returns or tabs, it may be useful to have a function that can collapse whitespace, using regular expressions, and be used for splitting. \n",
    "\n",
    "Q: What does the regular expression `'\\s+'` match on? \n",
    "\n",
    "A: The regular expression `'\\s+'` matches one or more whitespace characters.\n",
    "\n"
   ]
  },
  {
   "cell_type": "code",
   "execution_count": 28,
   "id": "f0e34516",
   "metadata": {},
   "outputs": [],
   "source": [
    "collapse_whitespace = re.compile(r'\\s+')\n",
    "\n",
    "def tokenize_lyrics(lyric) : \n",
    "    \"\"\"strip and split on whitespace\"\"\"\n",
    "    return([item.lower() for item in collapse_whitespace.split(lyric)])"
   ]
  },
  {
   "cell_type": "code",
   "execution_count": 30,
   "id": "2294c440",
   "metadata": {},
   "outputs": [
    {
     "data": {
      "image/png": "[encoded data removed]",
      "text/plain": [
       "<Figure size 1000x600 with 1 Axes>"
      ]
     },
     "metadata": {},
     "output_type": "display_data"
    }
   ],
   "source": [
    "# Your lyric length comparison chart here. \n",
    "\n",
    "import pandas as pd\n",
    "import matplotlib.pyplot as plt\n",
    "\n",
    "# Create a DataFrame that stores artist, song, and lyric length (word count)\n",
    "lyric_lengths = []\n",
    "\n",
    "for artist, songs in cleaned_lyrics_data.items():\n",
    "    for song, tokens in songs.items():\n",
    "        lyric_lengths.append({\n",
    "            'artist': artist,\n",
    "            'song': song,\n",
    "            'length': len(tokens)\n",
    "        })\n",
    "\n",
    "# Convert to a DataFrame\n",
    "df_lyric_lengths = pd.DataFrame(lyric_lengths)\n",
    "\n",
    "# Plot the lyric length distributions for each artist\n",
    "plt.figure(figsize=(10, 6))\n",
    "\n",
    "for artist in df_lyric_lengths['artist'].unique():\n",
    "    subset = df_lyric_lengths[df_lyric_lengths['artist'] == artist]\n",
    "    subset['length'].plot(kind='hist', density=True, alpha=0.5, label=artist)\n",
    "\n",
    "# Add legend, labels, and title\n",
    "plt.legend()\n",
    "plt.xlabel('Lyric Length (Word Count)')\n",
    "plt.ylabel('Density')\n",
    "plt.title('Lyric Length Comparison by Artist')\n",
    "\n",
    "# Show plot\n",
    "plt.show()\n"
   ]
  }
 ],
 "metadata": {
  "kernelspec": {
   "display_name": "Python 3 (ipykernel)",
   "language": "python",
   "name": "python3"
  },
  "language_info": {
   "codemirror_mode": {
    "name": "ipython",
    "version": 3
   },
   "file_extension": ".py",
   "mimetype": "text/x-python",
   "name": "python",
   "nbconvert_exporter": "python",
   "pygments_lexer": "ipython3",
   "version": "3.12.5"
  }
 },
 "nbformat": 4,
 "nbformat_minor": 5
}
